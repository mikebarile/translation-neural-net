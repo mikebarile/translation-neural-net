{
 "cells": [
  {
   "cell_type": "markdown",
   "metadata": {
    "collapsed": true
   },
   "source": [
    "# Language Translation\n",
    "In this project, you’re going to take a peek into the realm of neural network machine translation.  You’ll be training a sequence to sequence model on a dataset of English and French sentences that can translate new sentences from English to French.\n",
    "## Get the Data\n",
    "Since translating the whole language of English to French will take lots of time to train, we have provided you with a small portion of the English corpus."
   ]
  },
  {
   "cell_type": "code",
   "execution_count": 27,
   "metadata": {
    "collapsed": true
   },
   "outputs": [],
   "source": [
    "\"\"\"\n",
    "DON'T MODIFY ANYTHING IN THIS CELL\n",
    "\"\"\"\n",
    "import helper\n",
    "import problem_unittests as tests\n",
    "\n",
    "source_path = 'data/small_vocab_en'\n",
    "target_path = 'data/small_vocab_fr'\n",
    "source_text = helper.load_data(source_path)\n",
    "target_text = helper.load_data(target_path)"
   ]
  },
  {
   "cell_type": "markdown",
   "metadata": {},
   "source": [
    "## Explore the Data\n",
    "Play around with view_sentence_range to view different parts of the data."
   ]
  },
  {
   "cell_type": "code",
   "execution_count": 28,
   "metadata": {},
   "outputs": [
    {
     "name": "stdout",
     "output_type": "stream",
     "text": [
      "Dataset Stats\n",
      "Roughly the number of unique words: 227\n",
      "Number of sentences: 137861\n",
      "Average number of words in a sentence: 13.225277634719028\n",
      "\n",
      "English sentences 0 to 10:\n",
      "new jersey is sometimes quiet during autumn , and it is snowy in april .\n",
      "the united states is usually chilly during july , and it is usually freezing in november .\n",
      "california is usually quiet during march , and it is usually hot in june .\n",
      "the united states is sometimes mild during june , and it is cold in september .\n",
      "your least liked fruit is the grape , but my least liked is the apple .\n",
      "his favorite fruit is the orange , but my favorite is the grape .\n",
      "paris is relaxing during december , but it is usually chilly in july .\n",
      "new jersey is busy during spring , and it is never hot in march .\n",
      "our least liked fruit is the lemon , but my least liked is the grape .\n",
      "the united states is sometimes busy during january , and it is sometimes warm in november .\n",
      "\n",
      "French sentences 0 to 10:\n",
      "new jersey est parfois calme pendant l' automne , et il est neigeux en avril .\n",
      "les états-unis est généralement froid en juillet , et il gèle habituellement en novembre .\n",
      "california est généralement calme en mars , et il est généralement chaud en juin .\n",
      "les états-unis est parfois légère en juin , et il fait froid en septembre .\n",
      "votre moins aimé fruit est le raisin , mais mon moins aimé est la pomme .\n",
      "son fruit préféré est l'orange , mais mon préféré est le raisin .\n",
      "paris est relaxant en décembre , mais il est généralement froid en juillet .\n",
      "new jersey est occupé au printemps , et il est jamais chaude en mars .\n",
      "notre fruit est moins aimé le citron , mais mon moins aimé est le raisin .\n",
      "les états-unis est parfois occupé en janvier , et il est parfois chaud en novembre .\n"
     ]
    }
   ],
   "source": [
    "view_sentence_range = (0, 10)\n",
    "\n",
    "\"\"\"\n",
    "DON'T MODIFY ANYTHING IN THIS CELL\n",
    "\"\"\"\n",
    "import numpy as np\n",
    "\n",
    "print('Dataset Stats')\n",
    "print('Roughly the number of unique words: {}'.format(len({word: None for word in source_text.split()})))\n",
    "\n",
    "sentences = source_text.split('\\n')\n",
    "word_counts = [len(sentence.split()) for sentence in sentences]\n",
    "print('Number of sentences: {}'.format(len(sentences)))\n",
    "print('Average number of words in a sentence: {}'.format(np.average(word_counts)))\n",
    "\n",
    "print()\n",
    "print('English sentences {} to {}:'.format(*view_sentence_range))\n",
    "print('\\n'.join(source_text.split('\\n')[view_sentence_range[0]:view_sentence_range[1]]))\n",
    "print()\n",
    "print('French sentences {} to {}:'.format(*view_sentence_range))\n",
    "print('\\n'.join(target_text.split('\\n')[view_sentence_range[0]:view_sentence_range[1]]))"
   ]
  },
  {
   "cell_type": "markdown",
   "metadata": {},
   "source": [
    "## Implement Preprocessing Function\n",
    "### Text to Word Ids\n",
    "As you did with other RNNs, you must turn the text into a number so the computer can understand it. In the function `text_to_ids()`, you'll turn `source_text` and `target_text` from words to ids.  However, you need to add the `<EOS>` word id at the end of `target_text`.  This will help the neural network predict when the sentence should end.\n",
    "\n",
    "You can get the `<EOS>` word id by doing:\n",
    "```python\n",
    "target_vocab_to_int['<EOS>']\n",
    "```\n",
    "You can get other word ids using `source_vocab_to_int` and `target_vocab_to_int`."
   ]
  },
  {
   "cell_type": "code",
   "execution_count": 29,
   "metadata": {},
   "outputs": [
    {
     "name": "stdout",
     "output_type": "stream",
     "text": [
      "Tests Passed\n"
     ]
    }
   ],
   "source": [
    "def text_to_ids(source_text, target_text, source_vocab_to_int, target_vocab_to_int):\n",
    "    \"\"\"\n",
    "    Convert source and target text to proper word ids\n",
    "    :param source_text: String that contains all the source text.\n",
    "    :param target_text: String that contains all the target text.\n",
    "    :param source_vocab_to_int: Dictionary to go from the source words to an id\n",
    "    :param target_vocab_to_int: Dictionary to go from the target words to an id\n",
    "    :return: A tuple of lists (source_id_text, target_id_text)\n",
    "    \"\"\"\n",
    "    source_id_text = []\n",
    "    target_id_text = []\n",
    "    \n",
    "    for sentence_text in source_text.split('\\n'):\n",
    "        sentence_list = []\n",
    "        for word in sentence_text.split():\n",
    "            sentence_list.append(source_vocab_to_int[word])\n",
    "        source_id_text.append(sentence_list)\n",
    "    \n",
    "    for sentence_text in target_text.split('\\n'):\n",
    "        sentence_list = []\n",
    "        for word in sentence_text.split():\n",
    "            sentence_list.append(target_vocab_to_int[word])\n",
    "        sentence_list.append(target_vocab_to_int['<EOS>'])\n",
    "        target_id_text.append(sentence_list)\n",
    "    \n",
    "    return source_id_text, target_id_text\n",
    "\n",
    "\"\"\"\n",
    "DON'T MODIFY ANYTHING IN THIS CELL THAT IS BELOW THIS LINE\n",
    "\"\"\"\n",
    "tests.test_text_to_ids(text_to_ids)"
   ]
  },
  {
   "cell_type": "markdown",
   "metadata": {},
   "source": [
    "### Preprocess all the data and save it\n",
    "Running the code cell below will preprocess all the data and save it to file."
   ]
  },
  {
   "cell_type": "code",
   "execution_count": 30,
   "metadata": {
    "collapsed": true
   },
   "outputs": [],
   "source": [
    "\"\"\"\n",
    "DON'T MODIFY ANYTHING IN THIS CELL\n",
    "\"\"\"\n",
    "helper.preprocess_and_save_data(source_path, target_path, text_to_ids)"
   ]
  },
  {
   "cell_type": "markdown",
   "metadata": {},
   "source": [
    "# Check Point\n",
    "This is your first checkpoint. If you ever decide to come back to this notebook or have to restart the notebook, you can start from here. The preprocessed data has been saved to disk."
   ]
  },
  {
   "cell_type": "code",
   "execution_count": 31,
   "metadata": {
    "collapsed": true
   },
   "outputs": [],
   "source": [
    "\"\"\"\n",
    "DON'T MODIFY ANYTHING IN THIS CELL\n",
    "\"\"\"\n",
    "import numpy as np\n",
    "import helper\n",
    "\n",
    "(source_int_text, target_int_text), (source_vocab_to_int, target_vocab_to_int), _ = helper.load_preprocess()"
   ]
  },
  {
   "cell_type": "markdown",
   "metadata": {},
   "source": [
    "### Check the Version of TensorFlow and Access to GPU\n",
    "This will check to make sure you have the correct version of TensorFlow and access to a GPU"
   ]
  },
  {
   "cell_type": "code",
   "execution_count": 32,
   "metadata": {},
   "outputs": [
    {
     "name": "stdout",
     "output_type": "stream",
     "text": [
      "TensorFlow Version: 1.1.0\n",
      "Default GPU Device: /gpu:0\n"
     ]
    }
   ],
   "source": [
    "\"\"\"\n",
    "DON'T MODIFY ANYTHING IN THIS CELL\n",
    "\"\"\"\n",
    "from distutils.version import LooseVersion\n",
    "import warnings\n",
    "import tensorflow as tf\n",
    "from tensorflow.python.layers.core import Dense\n",
    "\n",
    "# Check TensorFlow Version\n",
    "assert LooseVersion(tf.__version__) >= LooseVersion('1.1'), 'Please use TensorFlow version 1.1 or newer'\n",
    "print('TensorFlow Version: {}'.format(tf.__version__))\n",
    "\n",
    "# Check for a GPU\n",
    "if not tf.test.gpu_device_name():\n",
    "    warnings.warn('No GPU found. Please use a GPU to train your neural network.')\n",
    "else:\n",
    "    print('Default GPU Device: {}'.format(tf.test.gpu_device_name()))"
   ]
  },
  {
   "cell_type": "markdown",
   "metadata": {},
   "source": [
    "## Build the Neural Network\n",
    "You'll build the components necessary to build a Sequence-to-Sequence model by implementing the following functions below:\n",
    "- `model_inputs`\n",
    "- `process_decoder_input`\n",
    "- `encoding_layer`\n",
    "- `decoding_layer_train`\n",
    "- `decoding_layer_infer`\n",
    "- `decoding_layer`\n",
    "- `seq2seq_model`\n",
    "\n",
    "### Input\n",
    "Implement the `model_inputs()` function to create TF Placeholders for the Neural Network. It should create the following placeholders:\n",
    "\n",
    "- Input text placeholder named \"input\" using the TF Placeholder name parameter with rank 2.\n",
    "- Targets placeholder with rank 2.\n",
    "- Learning rate placeholder with rank 0.\n",
    "- Keep probability placeholder named \"keep_prob\" using the TF Placeholder name parameter with rank 0.\n",
    "- Target sequence length placeholder named \"target_sequence_length\" with rank 1\n",
    "- Max target sequence length tensor named \"max_target_len\" getting its value from applying tf.reduce_max on the target_sequence_length placeholder. Rank 0.\n",
    "- Source sequence length placeholder named \"source_sequence_length\" with rank 1\n",
    "\n",
    "Return the placeholders in the following the tuple (input, targets, learning rate, keep probability, target sequence length, max target sequence length, source sequence length)"
   ]
  },
  {
   "cell_type": "code",
   "execution_count": 33,
   "metadata": {},
   "outputs": [
    {
     "name": "stdout",
     "output_type": "stream",
     "text": [
      "Tests Passed\n"
     ]
    }
   ],
   "source": [
    "def model_inputs():\n",
    "    \"\"\"\n",
    "    Create TF Placeholders for input, targets, learning rate, and lengths of source and target sequences.\n",
    "    :return: Tuple (input, targets, learning rate, keep probability, target sequence length,\n",
    "    max target sequence length, source sequence length)\n",
    "    \"\"\"\n",
    "    # TODO: Implement Function\n",
    "    input = tf.placeholder(dtype=tf.int32, shape=(None, None), name=\"input\")\n",
    "    targets = tf.placeholder(dtype=tf.int32, shape=(None, None), name=\"targets\")\n",
    "    lr = tf.placeholder(dtype=tf.float32, shape=(None), name=\"lr\")\n",
    "    \n",
    "    keep_prob = tf.placeholder(dtype=tf.float32, shape=(None), name=\"keep_prob\")\n",
    "    target_seq_len = tf.placeholder(dtype=tf.int32, shape=(None, ), name=\"target_sequence_length\")\n",
    "    max_target_len = tf.reduce_max(target_seq_len, name=\"max_target_len\")\n",
    "    source_seq_len = tf.placeholder(dtype=tf.int32, shape=(None, ), name=\"source_sequence_length\")\n",
    "    return input, targets, lr, keep_prob, target_seq_len, max_target_len, source_seq_len\n",
    "\n",
    "\n",
    "\"\"\"\n",
    "DON'T MODIFY ANYTHING IN THIS CELL THAT IS BELOW THIS LINE\n",
    "\"\"\"\n",
    "tests.test_model_inputs(model_inputs)"
   ]
  },
  {
   "cell_type": "markdown",
   "metadata": {},
   "source": [
    "### Process Decoder Input\n",
    "Implement `process_decoder_input` by removing the last word id from each batch in `target_data` and concat the GO ID to the begining of each batch."
   ]
  },
  {
   "cell_type": "code",
   "execution_count": 34,
   "metadata": {},
   "outputs": [
    {
     "name": "stdout",
     "output_type": "stream",
     "text": [
      "Tests Passed\n"
     ]
    }
   ],
   "source": [
    "def process_decoder_input(target_data, target_vocab_to_int, batch_size):\n",
    "    \"\"\"\n",
    "    Preprocess target data for encoding\n",
    "    :param target_data: Target Placehoder\n",
    "    :param target_vocab_to_int: Dictionary to go from the target words to an id\n",
    "    :param batch_size: Batch Size\n",
    "    :return: Preprocessed target data\n",
    "    \"\"\"\n",
    "    # TODO: Implement Function\n",
    "    ending = tf.strided_slice(target_data, [0, 0], [batch_size, -1], [1, 1])\n",
    "    dec_input = tf.concat([tf.fill([batch_size, 1], target_vocab_to_int['<GO>']), ending], 1)\n",
    "    \n",
    "    return dec_input\n",
    "\n",
    "\"\"\"\n",
    "DON'T MODIFY ANYTHING IN THIS CELL THAT IS BELOW THIS LINE\n",
    "\"\"\"\n",
    "tests.test_process_encoding_input(process_decoder_input)"
   ]
  },
  {
   "cell_type": "markdown",
   "metadata": {},
   "source": [
    "### Encoding\n",
    "Implement `encoding_layer()` to create a Encoder RNN layer:\n",
    " * Embed the encoder input using [`tf.contrib.layers.embed_sequence`](https://www.tensorflow.org/api_docs/python/tf/contrib/layers/embed_sequence)\n",
    " * Construct a [stacked](https://github.com/tensorflow/tensorflow/blob/6947f65a374ebf29e74bb71e36fd82760056d82c/tensorflow/docs_src/tutorials/recurrent.md#stacking-multiple-lstms) [`tf.contrib.rnn.LSTMCell`](https://www.tensorflow.org/api_docs/python/tf/contrib/rnn/LSTMCell) wrapped in a [`tf.contrib.rnn.DropoutWrapper`](https://www.tensorflow.org/api_docs/python/tf/contrib/rnn/DropoutWrapper)\n",
    " * Pass cell and embedded input to [`tf.nn.dynamic_rnn()`](https://www.tensorflow.org/api_docs/python/tf/nn/dynamic_rnn)"
   ]
  },
  {
   "cell_type": "code",
   "execution_count": 35,
   "metadata": {
    "scrolled": false
   },
   "outputs": [
    {
     "name": "stdout",
     "output_type": "stream",
     "text": [
      "Tests Passed\n"
     ]
    }
   ],
   "source": [
    "from imp import reload\n",
    "reload(tests)\n",
    "\n",
    "def encoding_layer(rnn_inputs, rnn_size, num_layers, keep_prob, \n",
    "                   source_sequence_length, source_vocab_size, \n",
    "                   encoding_embedding_size):\n",
    "    \"\"\"\n",
    "    Create encoding layer\n",
    "    :param rnn_inputs: Inputs for the RNN\n",
    "    :param rnn_size: RNN Size\n",
    "    :param num_layers: Number of layers\n",
    "    :param keep_prob: Dropout keep probability\n",
    "    :param source_sequence_length: a list of the lengths of each sequence in the batch\n",
    "    :param source_vocab_size: vocabulary size of source data\n",
    "    :param encoding_embedding_size: embedding size of source data\n",
    "    :return: tuple (RNN output, RNN state)\n",
    "    \"\"\"\n",
    "    # TODO: Implement Function\n",
    "    enc_embed_input = tf.contrib.layers.embed_sequence(rnn_inputs, vocab_size=source_vocab_size, \n",
    "                                                       embed_dim=encoding_embedding_size)\n",
    "    \n",
    "    def make_cell(rnn_size):\n",
    "        enc_cell = tf.contrib.rnn.DropoutWrapper(tf.contrib.rnn.LSTMCell(rnn_size), keep_prob)\n",
    "        return enc_cell\n",
    "        \n",
    "    stacked_lstm = tf.contrib.rnn.MultiRNNCell([make_cell(rnn_size) for _ in range(num_layers)])\n",
    "    \n",
    "    enc_output, enc_state = tf.nn.dynamic_rnn(stacked_lstm, enc_embed_input, source_sequence_length, \n",
    "                                              dtype=tf.float32)\n",
    "\n",
    "    return enc_output, enc_state\n",
    "\n",
    "\"\"\"\n",
    "DON'T MODIFY ANYTHING IN THIS CELL THAT IS BELOW THIS LINE\n",
    "\"\"\"\n",
    "tests.test_encoding_layer(encoding_layer)"
   ]
  },
  {
   "cell_type": "markdown",
   "metadata": {},
   "source": [
    "### Decoding - Training\n",
    "Create a training decoding layer:\n",
    "* Create a [`tf.contrib.seq2seq.TrainingHelper`](https://www.tensorflow.org/api_docs/python/tf/contrib/seq2seq/TrainingHelper) \n",
    "* Create a [`tf.contrib.seq2seq.BasicDecoder`](https://www.tensorflow.org/api_docs/python/tf/contrib/seq2seq/BasicDecoder)\n",
    "* Obtain the decoder outputs from [`tf.contrib.seq2seq.dynamic_decode`](https://www.tensorflow.org/api_docs/python/tf/contrib/seq2seq/dynamic_decode)"
   ]
  },
  {
   "cell_type": "code",
   "execution_count": 36,
   "metadata": {},
   "outputs": [
    {
     "name": "stdout",
     "output_type": "stream",
     "text": [
      "Tests Passed\n"
     ]
    }
   ],
   "source": [
    "\n",
    "def decoding_layer_train(encoder_state, dec_cell, dec_embed_input, \n",
    "                         target_sequence_length, max_summary_length, \n",
    "                         output_layer, keep_prob):\n",
    "    \"\"\"\n",
    "    Create a decoding layer for training\n",
    "    :param encoder_state: Encoder State\n",
    "    :param dec_cell: Decoder RNN Cell\n",
    "    :param dec_embed_input: Decoder embedded input\n",
    "    :param target_sequence_length: The lengths of each sequence in the target batch\n",
    "    :param max_summary_length: The length of the longest sequence in the batch\n",
    "    :param output_layer: Function to apply the output layer\n",
    "    :param keep_prob: Dropout keep probability\n",
    "    :return: BasicDecoderOutput containing training logits and sample_id\n",
    "    \"\"\"\n",
    "    training_helper = tf.contrib.seq2seq.TrainingHelper(inputs=dec_embed_input, \n",
    "                                                        sequence_length=target_sequence_length, time_major=False)\n",
    "    training_decoder = tf.contrib.seq2seq.BasicDecoder(dec_cell, training_helper, encoder_state, output_layer)\n",
    "    output, _ = tf.contrib.seq2seq.dynamic_decode(training_decoder, impute_finished=True, \n",
    "                                                                   maximum_iterations=max_summary_length)\n",
    "    return output\n",
    "\n",
    "\n",
    "\n",
    "\"\"\"\n",
    "DON'T MODIFY ANYTHING IN THIS CELL THAT IS BELOW THIS LINE\n",
    "\"\"\"\n",
    "tests.test_decoding_layer_train(decoding_layer_train)"
   ]
  },
  {
   "cell_type": "markdown",
   "metadata": {},
   "source": [
    "### Decoding - Inference\n",
    "Create inference decoder:\n",
    "* Create a [`tf.contrib.seq2seq.GreedyEmbeddingHelper`](https://www.tensorflow.org/api_docs/python/tf/contrib/seq2seq/GreedyEmbeddingHelper)\n",
    "* Create a [`tf.contrib.seq2seq.BasicDecoder`](https://www.tensorflow.org/api_docs/python/tf/contrib/seq2seq/BasicDecoder)\n",
    "* Obtain the decoder outputs from [`tf.contrib.seq2seq.dynamic_decode`](https://www.tensorflow.org/api_docs/python/tf/contrib/seq2seq/dynamic_decode)"
   ]
  },
  {
   "cell_type": "code",
   "execution_count": 37,
   "metadata": {
    "scrolled": true
   },
   "outputs": [
    {
     "name": "stdout",
     "output_type": "stream",
     "text": [
      "Tests Passed\n"
     ]
    }
   ],
   "source": [
    "def decoding_layer_infer(encoder_state, dec_cell, dec_embeddings, start_of_sequence_id,\n",
    "                         end_of_sequence_id, max_target_sequence_length,\n",
    "                         vocab_size, output_layer, batch_size, keep_prob):\n",
    "    \"\"\"\n",
    "    Create a decoding layer for inference\n",
    "    :param encoder_state: Encoder state\n",
    "    :param dec_cell: Decoder RNN Cell\n",
    "    :param dec_embeddings: Decoder embeddings\n",
    "    :param start_of_sequence_id: GO ID\n",
    "    :param end_of_sequence_id: EOS Id\n",
    "    :param max_target_sequence_length: Maximum length of target sequences\n",
    "    :param vocab_size: Size of decoder/target vocabulary\n",
    "    :param decoding_scope: TenorFlow Variable Scope for decoding\n",
    "    :param output_layer: Function to apply the output layer\n",
    "    :param batch_size: Batch size\n",
    "    :param keep_prob: Dropout keep probability\n",
    "    :return: BasicDecoderOutput containing inference logits and sample_id\n",
    "    \"\"\"\n",
    "    start_tokens = tf.tile(tf.constant([start_of_sequence_id], dtype=tf.int32), [batch_size], name='start_tokens')\n",
    "    \n",
    "    inference_helper = tf.contrib.seq2seq.GreedyEmbeddingHelper(dec_embeddings, start_tokens, end_of_sequence_id)\n",
    "    \n",
    "    inference_decoder = tf.contrib.seq2seq.BasicDecoder(dec_cell, inference_helper, encoder_state, output_layer)\n",
    "    \n",
    "    output, _ = tf.contrib.seq2seq.dynamic_decode(inference_decoder, impute_finished=True, \n",
    "                                                  maximum_iterations=max_target_sequence_length)\n",
    "    return output\n",
    "\n",
    "\"\"\"\n",
    "DON'T MODIFY ANYTHING IN THIS CELL THAT IS BELOW THIS LINE\n",
    "\"\"\"\n",
    "tests.test_decoding_layer_infer(decoding_layer_infer)"
   ]
  },
  {
   "cell_type": "markdown",
   "metadata": {},
   "source": [
    "### Build the Decoding Layer\n",
    "Implement `decoding_layer()` to create a Decoder RNN layer.\n",
    "\n",
    "* Embed the target sequences\n",
    "* Construct the decoder LSTM cell (just like you constructed the encoder cell above)\n",
    "* Create an output layer to map the outputs of the decoder to the elements of our vocabulary\n",
    "* Use the your `decoding_layer_train(encoder_state, dec_cell, dec_embed_input, target_sequence_length, max_target_sequence_length, output_layer, keep_prob)` function to get the training logits.\n",
    "* Use your `decoding_layer_infer(encoder_state, dec_cell, dec_embeddings, start_of_sequence_id, end_of_sequence_id, max_target_sequence_length, vocab_size, output_layer, batch_size, keep_prob)` function to get the inference logits.\n",
    "\n",
    "Note: You'll need to use [tf.variable_scope](https://www.tensorflow.org/api_docs/python/tf/variable_scope) to share variables between training and inference."
   ]
  },
  {
   "cell_type": "code",
   "execution_count": 38,
   "metadata": {},
   "outputs": [
    {
     "name": "stdout",
     "output_type": "stream",
     "text": [
      "Tests Passed\n"
     ]
    }
   ],
   "source": [
    "def decoding_layer(dec_input, encoder_state,\n",
    "                   target_sequence_length, max_target_sequence_length,\n",
    "                   rnn_size,\n",
    "                   num_layers, target_vocab_to_int, target_vocab_size,\n",
    "                   batch_size, keep_prob, decoding_embedding_size):\n",
    "    \"\"\"\n",
    "    Create decoding layer\n",
    "    :param dec_input: Decoder input\n",
    "    :param encoder_state: Encoder state\n",
    "    :param target_sequence_length: The lengths of each sequence in the target batch\n",
    "    :param max_target_sequence_length: Maximum length of target sequences\n",
    "    :param rnn_size: RNN Size\n",
    "    :param num_layers: Number of layers\n",
    "    :param target_vocab_to_int: Dictionary to go from the target words to an id\n",
    "    :param target_vocab_size: Size of target vocabulary\n",
    "    :param batch_size: The size of the batch\n",
    "    :param keep_prob: Dropout keep probability\n",
    "    :return: Tuple of (Training BasicDecoderOutput, Inference BasicDecoderOutput)\n",
    "    \"\"\"\n",
    "    \n",
    "    dec_embeddings = tf.Variable(tf.random_uniform([target_vocab_size, decoding_embedding_size]))\n",
    "    dec_embed_input = tf.nn.embedding_lookup(dec_embeddings, dec_input)\n",
    "    \n",
    "    def make_cell(rnn_size):\n",
    "        dec_cell = tf.contrib.rnn.LSTMCell(rnn_size, initializer=tf.random_uniform_initializer(-0.1, 0.1, seed=2))\n",
    "        return dec_cell\n",
    "\n",
    "    dec_cell = tf.contrib.rnn.MultiRNNCell([make_cell(rnn_size) for _ in range(num_layers)])\n",
    "    \n",
    "    output_layer = Dense(target_vocab_size,\n",
    "                         kernel_initializer = tf.truncated_normal_initializer(mean = 0.0, stddev=0.1))\n",
    "    \n",
    "    with tf.variable_scope(\"decode\"):\n",
    "        training_decoder_output = decoding_layer_train(encoder_state, dec_cell, dec_embed_input, target_sequence_length,\n",
    "                                    max_target_sequence_length, output_layer, keep_prob)\n",
    "    \n",
    "    start_of_sequence_id = target_vocab_to_int['<GO>']\n",
    "    end_of_sequence_id = target_vocab_to_int['<EOS>']\n",
    "    with tf.variable_scope(\"decode\", reuse=True):\n",
    "        inference_decoder_output = decoding_layer_infer(encoder_state, dec_cell, dec_embeddings, start_of_sequence_id, \n",
    "                                         end_of_sequence_id, max_target_sequence_length, target_vocab_size, \n",
    "                                         output_layer, batch_size, keep_prob)\n",
    "    return training_decoder_output, inference_decoder_output\n",
    "\"\"\"\n",
    "DON'T MODIFY ANYTHING IN THIS CELL THAT IS BELOW THIS LINE\n",
    "\"\"\"\n",
    "tests.test_decoding_layer(decoding_layer)"
   ]
  },
  {
   "cell_type": "markdown",
   "metadata": {},
   "source": [
    "### Build the Neural Network\n",
    "Apply the functions you implemented above to:\n",
    "\n",
    "- Apply embedding to the input data for the encoder.\n",
    "- Encode the input using your `encoding_layer(rnn_inputs, rnn_size, num_layers, keep_prob,  source_sequence_length, source_vocab_size, encoding_embedding_size)`.\n",
    "- Process target data using your `process_decoder_input(target_data, target_vocab_to_int, batch_size)` function.\n",
    "- Apply embedding to the target data for the decoder.\n",
    "- Decode the encoded input using your `decoding_layer(dec_input, enc_state, target_sequence_length, max_target_sentence_length, rnn_size, num_layers, target_vocab_to_int, target_vocab_size, batch_size, keep_prob, dec_embedding_size)` function."
   ]
  },
  {
   "cell_type": "code",
   "execution_count": 39,
   "metadata": {},
   "outputs": [
    {
     "name": "stdout",
     "output_type": "stream",
     "text": [
      "Tests Passed\n"
     ]
    }
   ],
   "source": [
    "def seq2seq_model(input_data, target_data, keep_prob, batch_size,\n",
    "                  source_sequence_length, target_sequence_length,\n",
    "                  max_target_sentence_length,\n",
    "                  source_vocab_size, target_vocab_size,\n",
    "                  enc_embedding_size, dec_embedding_size,\n",
    "                  rnn_size, num_layers, target_vocab_to_int):\n",
    "    \"\"\"\n",
    "    Build the Sequence-to-Sequence part of the neural network\n",
    "    :param input_data: Input placeholder\n",
    "    :param target_data: Target placeholder\n",
    "    :param keep_prob: Dropout keep probability placeholder\n",
    "    :param batch_size: Batch Size\n",
    "    :param source_sequence_length: Sequence Lengths of source sequences in the batch\n",
    "    :param target_sequence_length: Sequence Lengths of target sequences in the batch\n",
    "    :param source_vocab_size: Source vocabulary size\n",
    "    :param target_vocab_size: Target vocabulary size\n",
    "    :param enc_embedding_size: Decoder embedding size\n",
    "    :param dec_embedding_size: Encoder embedding size\n",
    "    :param rnn_size: RNN Size\n",
    "    :param num_layers: Number of layers\n",
    "    :param target_vocab_to_int: Dictionary to go from the target words to an id\n",
    "    :return: Tuple of (Training BasicDecoderOutput, Inference BasicDecoderOutput)\n",
    "    \"\"\"\n",
    "    _, encoder_state = encoding_layer(input_data, rnn_size, num_layers, keep_prob, source_sequence_length, \n",
    "                                      source_vocab_size, enc_embedding_size)\n",
    "    dec_input = process_decoder_input(target_data, target_vocab_to_int, batch_size)\n",
    "    training_decoder_output, inference_decoder_output = decoding_layer(dec_input, encoder_state, target_sequence_length, \n",
    "                                         max_target_sentence_length, rnn_size, num_layers, target_vocab_to_int, \n",
    "                                         target_vocab_size, batch_size, keep_prob, dec_embedding_size)\n",
    "    return training_decoder_output, inference_decoder_output\n",
    "\n",
    "\"\"\"\n",
    "DON'T MODIFY ANYTHING IN THIS CELL THAT IS BELOW THIS LINE\n",
    "\"\"\"\n",
    "tests.test_seq2seq_model(seq2seq_model)"
   ]
  },
  {
   "cell_type": "markdown",
   "metadata": {},
   "source": [
    "## Neural Network Training\n",
    "### Hyperparameters\n",
    "Tune the following parameters:\n",
    "\n",
    "- Set `epochs` to the number of epochs.\n",
    "- Set `batch_size` to the batch size.\n",
    "- Set `rnn_size` to the size of the RNNs.\n",
    "- Set `num_layers` to the number of layers.\n",
    "- Set `encoding_embedding_size` to the size of the embedding for the encoder.\n",
    "- Set `decoding_embedding_size` to the size of the embedding for the decoder.\n",
    "- Set `learning_rate` to the learning rate.\n",
    "- Set `keep_probability` to the Dropout keep probability\n",
    "- Set `display_step` to state how many steps between each debug output statement"
   ]
  },
  {
   "cell_type": "code",
   "execution_count": 44,
   "metadata": {
    "collapsed": true
   },
   "outputs": [],
   "source": [
    "# Number of Epochs\n",
    "epochs = 5\n",
    "# Batch Size\n",
    "batch_size = 256\n",
    "# RNN Size\n",
    "rnn_size = 256\n",
    "# Number of Layers\n",
    "num_layers = 3\n",
    "# Embedding Size\n",
    "encoding_embedding_size = 128\n",
    "decoding_embedding_size = 128\n",
    "# Learning Rate\n",
    "learning_rate = .001\n",
    "# Dropout Keep Probability\n",
    "keep_probability = 0.8\n",
    "display_step = 10"
   ]
  },
  {
   "cell_type": "markdown",
   "metadata": {},
   "source": [
    "### Build the Graph\n",
    "Build the graph using the neural network you implemented."
   ]
  },
  {
   "cell_type": "code",
   "execution_count": 45,
   "metadata": {
    "collapsed": true
   },
   "outputs": [],
   "source": [
    "\"\"\"\n",
    "DON'T MODIFY ANYTHING IN THIS CELL\n",
    "\"\"\"\n",
    "save_path = 'checkpoints/dev'\n",
    "(source_int_text, target_int_text), (source_vocab_to_int, target_vocab_to_int), _ = helper.load_preprocess()\n",
    "max_target_sentence_length = max([len(sentence) for sentence in source_int_text])\n",
    "\n",
    "train_graph = tf.Graph()\n",
    "with train_graph.as_default():\n",
    "    input_data, targets, lr, keep_prob, target_sequence_length, max_target_sequence_length, source_sequence_length = model_inputs()\n",
    "\n",
    "    #sequence_length = tf.placeholder_with_default(max_target_sentence_length, None, name='sequence_length')\n",
    "    input_shape = tf.shape(input_data)\n",
    "\n",
    "    train_logits, inference_logits = seq2seq_model(tf.reverse(input_data, [-1]),\n",
    "                                                   targets,\n",
    "                                                   keep_prob,\n",
    "                                                   batch_size,\n",
    "                                                   source_sequence_length,\n",
    "                                                   target_sequence_length,\n",
    "                                                   max_target_sequence_length,\n",
    "                                                   len(source_vocab_to_int),\n",
    "                                                   len(target_vocab_to_int),\n",
    "                                                   encoding_embedding_size,\n",
    "                                                   decoding_embedding_size,\n",
    "                                                   rnn_size,\n",
    "                                                   num_layers,\n",
    "                                                   target_vocab_to_int)\n",
    "\n",
    "\n",
    "    training_logits = tf.identity(train_logits.rnn_output, name='logits')\n",
    "    inference_logits = tf.identity(inference_logits.sample_id, name='predictions')\n",
    "\n",
    "    masks = tf.sequence_mask(target_sequence_length, max_target_sequence_length, dtype=tf.float32, name='masks')\n",
    "\n",
    "    with tf.name_scope(\"optimization\"):\n",
    "        # Loss function\n",
    "        cost = tf.contrib.seq2seq.sequence_loss(\n",
    "            training_logits,\n",
    "            targets,\n",
    "            masks)\n",
    "\n",
    "        # Optimizer\n",
    "        optimizer = tf.train.AdamOptimizer(lr)\n",
    "\n",
    "        # Gradient Clipping\n",
    "        gradients = optimizer.compute_gradients(cost)\n",
    "        capped_gradients = [(tf.clip_by_value(grad, -1., 1.), var) for grad, var in gradients if grad is not None]\n",
    "        train_op = optimizer.apply_gradients(capped_gradients)\n"
   ]
  },
  {
   "cell_type": "markdown",
   "metadata": {},
   "source": [
    "Batch and pad the source and target sequences"
   ]
  },
  {
   "cell_type": "code",
   "execution_count": 46,
   "metadata": {
    "collapsed": true
   },
   "outputs": [],
   "source": [
    "\"\"\"\n",
    "DON'T MODIFY ANYTHING IN THIS CELL\n",
    "\"\"\"\n",
    "def pad_sentence_batch(sentence_batch, pad_int):\n",
    "    \"\"\"Pad sentences with <PAD> so that each sentence of a batch has the same length\"\"\"\n",
    "    max_sentence = max([len(sentence) for sentence in sentence_batch])\n",
    "    return [sentence + [pad_int] * (max_sentence - len(sentence)) for sentence in sentence_batch]\n",
    "\n",
    "\n",
    "def get_batches(sources, targets, batch_size, source_pad_int, target_pad_int):\n",
    "    \"\"\"Batch targets, sources, and the lengths of their sentences together\"\"\"\n",
    "    for batch_i in range(0, len(sources)//batch_size):\n",
    "        start_i = batch_i * batch_size\n",
    "\n",
    "        # Slice the right amount for the batch\n",
    "        sources_batch = sources[start_i:start_i + batch_size]\n",
    "        targets_batch = targets[start_i:start_i + batch_size]\n",
    "\n",
    "        # Pad\n",
    "        pad_sources_batch = np.array(pad_sentence_batch(sources_batch, source_pad_int))\n",
    "        pad_targets_batch = np.array(pad_sentence_batch(targets_batch, target_pad_int))\n",
    "\n",
    "        # Need the lengths for the _lengths parameters\n",
    "        pad_targets_lengths = []\n",
    "        for target in pad_targets_batch:\n",
    "            pad_targets_lengths.append(len(target))\n",
    "\n",
    "        pad_source_lengths = []\n",
    "        for source in pad_sources_batch:\n",
    "            pad_source_lengths.append(len(source))\n",
    "\n",
    "        yield pad_sources_batch, pad_targets_batch, pad_source_lengths, pad_targets_lengths\n"
   ]
  },
  {
   "cell_type": "markdown",
   "metadata": {},
   "source": [
    "### Train\n",
    "Train the neural network on the preprocessed data. If you have a hard time getting a good loss, check the forms to see if anyone is having the same problem."
   ]
  },
  {
   "cell_type": "code",
   "execution_count": 47,
   "metadata": {
    "scrolled": true
   },
   "outputs": [
    {
     "name": "stdout",
     "output_type": "stream",
     "text": [
      "Epoch   0 Batch   10/538 - Train Accuracy: 0.3014, Validation Accuracy: 0.3828, Loss: 3.5761\n",
      "Epoch   0 Batch   20/538 - Train Accuracy: 0.3752, Validation Accuracy: 0.4189, Loss: 2.8297\n",
      "Epoch   0 Batch   30/538 - Train Accuracy: 0.3959, Validation Accuracy: 0.4513, Loss: 2.6505\n",
      "Epoch   0 Batch   40/538 - Train Accuracy: 0.4744, Validation Accuracy: 0.4821, Loss: 2.2717\n",
      "Epoch   0 Batch   50/538 - Train Accuracy: 0.4391, Validation Accuracy: 0.4917, Loss: 2.2979\n",
      "Epoch   0 Batch   60/538 - Train Accuracy: 0.4051, Validation Accuracy: 0.4744, Loss: 2.2430\n",
      "Epoch   0 Batch   70/538 - Train Accuracy: 0.4407, Validation Accuracy: 0.4858, Loss: 2.0932\n",
      "Epoch   0 Batch   80/538 - Train Accuracy: 0.4387, Validation Accuracy: 0.5066, Loss: 2.1050\n",
      "Epoch   0 Batch   90/538 - Train Accuracy: 0.4516, Validation Accuracy: 0.4830, Loss: 1.9331\n",
      "Epoch   0 Batch  100/538 - Train Accuracy: 0.4539, Validation Accuracy: 0.5032, Loss: 1.9209\n",
      "Epoch   0 Batch  110/538 - Train Accuracy: 0.4475, Validation Accuracy: 0.5062, Loss: 1.8703\n",
      "Epoch   0 Batch  120/538 - Train Accuracy: 0.4803, Validation Accuracy: 0.5194, Loss: 1.7263\n",
      "Epoch   0 Batch  130/538 - Train Accuracy: 0.4955, Validation Accuracy: 0.5243, Loss: 1.6458\n",
      "Epoch   0 Batch  140/538 - Train Accuracy: 0.4668, Validation Accuracy: 0.5218, Loss: 1.6739\n",
      "Epoch   0 Batch  150/538 - Train Accuracy: 0.4795, Validation Accuracy: 0.5204, Loss: 1.5013\n",
      "Epoch   0 Batch  160/538 - Train Accuracy: 0.5076, Validation Accuracy: 0.5375, Loss: 1.4000\n",
      "Epoch   0 Batch  170/538 - Train Accuracy: 0.4634, Validation Accuracy: 0.5020, Loss: 1.4627\n",
      "Epoch   0 Batch  180/538 - Train Accuracy: 0.5177, Validation Accuracy: 0.5225, Loss: 1.3976\n",
      "Epoch   0 Batch  190/538 - Train Accuracy: 0.4730, Validation Accuracy: 0.5048, Loss: 1.3602\n",
      "Epoch   0 Batch  200/538 - Train Accuracy: 0.4648, Validation Accuracy: 0.5149, Loss: 1.3519\n",
      "Epoch   0 Batch  210/538 - Train Accuracy: 0.4996, Validation Accuracy: 0.5350, Loss: 1.2529\n",
      "Epoch   0 Batch  220/538 - Train Accuracy: 0.4968, Validation Accuracy: 0.5442, Loss: 1.2313\n",
      "Epoch   0 Batch  230/538 - Train Accuracy: 0.4969, Validation Accuracy: 0.5272, Loss: 1.2107\n",
      "Epoch   0 Batch  240/538 - Train Accuracy: 0.4715, Validation Accuracy: 0.5252, Loss: 1.1983\n",
      "Epoch   0 Batch  250/538 - Train Accuracy: 0.4645, Validation Accuracy: 0.5256, Loss: 1.1326\n",
      "Epoch   0 Batch  260/538 - Train Accuracy: 0.5028, Validation Accuracy: 0.5305, Loss: 1.1051\n",
      "Epoch   0 Batch  270/538 - Train Accuracy: 0.4920, Validation Accuracy: 0.5419, Loss: 1.0830\n",
      "Epoch   0 Batch  280/538 - Train Accuracy: 0.5521, Validation Accuracy: 0.5398, Loss: 1.0167\n",
      "Epoch   0 Batch  290/538 - Train Accuracy: 0.5244, Validation Accuracy: 0.5554, Loss: 1.0415\n",
      "Epoch   0 Batch  300/538 - Train Accuracy: 0.5517, Validation Accuracy: 0.5586, Loss: 0.9676\n",
      "Epoch   0 Batch  310/538 - Train Accuracy: 0.5486, Validation Accuracy: 0.5664, Loss: 0.9575\n",
      "Epoch   0 Batch  320/538 - Train Accuracy: 0.5822, Validation Accuracy: 0.5765, Loss: 0.9298\n",
      "Epoch   0 Batch  330/538 - Train Accuracy: 0.5517, Validation Accuracy: 0.5586, Loss: 0.8985\n",
      "Epoch   0 Batch  340/538 - Train Accuracy: 0.5537, Validation Accuracy: 0.5888, Loss: 0.9312\n",
      "Epoch   0 Batch  350/538 - Train Accuracy: 0.5688, Validation Accuracy: 0.5662, Loss: 0.8954\n",
      "Epoch   0 Batch  360/538 - Train Accuracy: 0.5312, Validation Accuracy: 0.5605, Loss: 0.9032\n",
      "Epoch   0 Batch  370/538 - Train Accuracy: 0.5482, Validation Accuracy: 0.5886, Loss: 0.8904\n",
      "Epoch   0 Batch  380/538 - Train Accuracy: 0.5551, Validation Accuracy: 0.5909, Loss: 0.8453\n",
      "Epoch   0 Batch  390/538 - Train Accuracy: 0.6012, Validation Accuracy: 0.5893, Loss: 0.7990\n",
      "Epoch   0 Batch  400/538 - Train Accuracy: 0.5804, Validation Accuracy: 0.5888, Loss: 0.8051\n",
      "Epoch   0 Batch  410/538 - Train Accuracy: 0.5783, Validation Accuracy: 0.5827, Loss: 0.8048\n",
      "Epoch   0 Batch  420/538 - Train Accuracy: 0.5848, Validation Accuracy: 0.5909, Loss: 0.7846\n",
      "Epoch   0 Batch  430/538 - Train Accuracy: 0.5771, Validation Accuracy: 0.5991, Loss: 0.7891\n",
      "Epoch   0 Batch  440/538 - Train Accuracy: 0.5799, Validation Accuracy: 0.5953, Loss: 0.7993\n",
      "Epoch   0 Batch  450/538 - Train Accuracy: 0.6127, Validation Accuracy: 0.6033, Loss: 0.7585\n",
      "Epoch   0 Batch  460/538 - Train Accuracy: 0.5733, Validation Accuracy: 0.6030, Loss: 0.7174\n",
      "Epoch   0 Batch  470/538 - Train Accuracy: 0.6192, Validation Accuracy: 0.6078, Loss: 0.6936\n",
      "Epoch   0 Batch  480/538 - Train Accuracy: 0.6107, Validation Accuracy: 0.6030, Loss: 0.6820\n",
      "Epoch   0 Batch  490/538 - Train Accuracy: 0.5934, Validation Accuracy: 0.6042, Loss: 0.6895\n",
      "Epoch   0 Batch  500/538 - Train Accuracy: 0.6225, Validation Accuracy: 0.6092, Loss: 0.6278\n",
      "Epoch   0 Batch  510/538 - Train Accuracy: 0.6233, Validation Accuracy: 0.6200, Loss: 0.6559\n",
      "Epoch   0 Batch  520/538 - Train Accuracy: 0.6043, Validation Accuracy: 0.6053, Loss: 0.6842\n",
      "Epoch   0 Batch  530/538 - Train Accuracy: 0.5949, Validation Accuracy: 0.6188, Loss: 0.6905\n",
      "Epoch   1 Batch   10/538 - Train Accuracy: 0.5746, Validation Accuracy: 0.6120, Loss: 0.6808\n",
      "Epoch   1 Batch   20/538 - Train Accuracy: 0.5990, Validation Accuracy: 0.6195, Loss: 0.6425\n",
      "Epoch   1 Batch   30/538 - Train Accuracy: 0.6023, Validation Accuracy: 0.6277, Loss: 0.6513\n",
      "Epoch   1 Batch   40/538 - Train Accuracy: 0.6500, Validation Accuracy: 0.6325, Loss: 0.5496\n",
      "Epoch   1 Batch   50/538 - Train Accuracy: 0.6248, Validation Accuracy: 0.6321, Loss: 0.6086\n",
      "Epoch   1 Batch   60/538 - Train Accuracy: 0.6285, Validation Accuracy: 0.6335, Loss: 0.6027\n",
      "Epoch   1 Batch   70/538 - Train Accuracy: 0.6326, Validation Accuracy: 0.6346, Loss: 0.5761\n",
      "Epoch   1 Batch   80/538 - Train Accuracy: 0.6182, Validation Accuracy: 0.6342, Loss: 0.6127\n",
      "Epoch   1 Batch   90/538 - Train Accuracy: 0.6164, Validation Accuracy: 0.6280, Loss: 0.5843\n",
      "Epoch   1 Batch  100/538 - Train Accuracy: 0.6119, Validation Accuracy: 0.6284, Loss: 0.5578\n",
      "Epoch   1 Batch  110/538 - Train Accuracy: 0.6227, Validation Accuracy: 0.6472, Loss: 0.5749\n",
      "Epoch   1 Batch  120/538 - Train Accuracy: 0.6371, Validation Accuracy: 0.6499, Loss: 0.5346\n",
      "Epoch   1 Batch  130/538 - Train Accuracy: 0.6494, Validation Accuracy: 0.6534, Loss: 0.5333\n",
      "Epoch   1 Batch  140/538 - Train Accuracy: 0.5992, Validation Accuracy: 0.6607, Loss: 0.5844\n",
      "Epoch   1 Batch  150/538 - Train Accuracy: 0.6502, Validation Accuracy: 0.6426, Loss: 0.5387\n",
      "Epoch   1 Batch  160/538 - Train Accuracy: 0.6425, Validation Accuracy: 0.6506, Loss: 0.5195\n",
      "Epoch   1 Batch  170/538 - Train Accuracy: 0.6576, Validation Accuracy: 0.6554, Loss: 0.5301\n",
      "Epoch   1 Batch  180/538 - Train Accuracy: 0.6592, Validation Accuracy: 0.6715, Loss: 0.5143\n",
      "Epoch   1 Batch  190/538 - Train Accuracy: 0.6417, Validation Accuracy: 0.6550, Loss: 0.5251\n",
      "Epoch   1 Batch  200/538 - Train Accuracy: 0.6697, Validation Accuracy: 0.6628, Loss: 0.4987\n",
      "Epoch   1 Batch  210/538 - Train Accuracy: 0.6570, Validation Accuracy: 0.6582, Loss: 0.4927\n",
      "Epoch   1 Batch  220/538 - Train Accuracy: 0.6510, Validation Accuracy: 0.6481, Loss: 0.4706\n",
      "Epoch   1 Batch  230/538 - Train Accuracy: 0.6453, Validation Accuracy: 0.6587, Loss: 0.5083\n",
      "Epoch   1 Batch  240/538 - Train Accuracy: 0.6801, Validation Accuracy: 0.6804, Loss: 0.4919\n",
      "Epoch   1 Batch  250/538 - Train Accuracy: 0.6531, Validation Accuracy: 0.6561, Loss: 0.4830\n",
      "Epoch   1 Batch  260/538 - Train Accuracy: 0.6691, Validation Accuracy: 0.6870, Loss: 0.4765\n",
      "Epoch   1 Batch  270/538 - Train Accuracy: 0.6541, Validation Accuracy: 0.6793, Loss: 0.4778\n",
      "Epoch   1 Batch  280/538 - Train Accuracy: 0.7266, Validation Accuracy: 0.6855, Loss: 0.4459\n",
      "Epoch   1 Batch  290/538 - Train Accuracy: 0.6912, Validation Accuracy: 0.6974, Loss: 0.4460\n",
      "Epoch   1 Batch  300/538 - Train Accuracy: 0.6987, Validation Accuracy: 0.6795, Loss: 0.4382\n",
      "Epoch   1 Batch  310/538 - Train Accuracy: 0.7057, Validation Accuracy: 0.6999, Loss: 0.4440\n",
      "Epoch   1 Batch  320/538 - Train Accuracy: 0.7081, Validation Accuracy: 0.6928, Loss: 0.4253\n",
      "Epoch   1 Batch  330/538 - Train Accuracy: 0.7124, Validation Accuracy: 0.6941, Loss: 0.4060\n",
      "Epoch   1 Batch  340/538 - Train Accuracy: 0.7211, Validation Accuracy: 0.6946, Loss: 0.4326\n",
      "Epoch   1 Batch  350/538 - Train Accuracy: 0.7104, Validation Accuracy: 0.7177, Loss: 0.4158\n",
      "Epoch   1 Batch  360/538 - Train Accuracy: 0.7076, Validation Accuracy: 0.7141, Loss: 0.4125\n"
     ]
    },
    {
     "name": "stdout",
     "output_type": "stream",
     "text": [
      "Epoch   1 Batch  370/538 - Train Accuracy: 0.7057, Validation Accuracy: 0.7106, Loss: 0.4122\n",
      "Epoch   1 Batch  380/538 - Train Accuracy: 0.7438, Validation Accuracy: 0.7127, Loss: 0.3806\n",
      "Epoch   1 Batch  390/538 - Train Accuracy: 0.7617, Validation Accuracy: 0.7216, Loss: 0.3763\n",
      "Epoch   1 Batch  400/538 - Train Accuracy: 0.7108, Validation Accuracy: 0.7365, Loss: 0.3809\n",
      "Epoch   1 Batch  410/538 - Train Accuracy: 0.7246, Validation Accuracy: 0.7287, Loss: 0.3808\n",
      "Epoch   1 Batch  420/538 - Train Accuracy: 0.7395, Validation Accuracy: 0.7262, Loss: 0.3623\n",
      "Epoch   1 Batch  430/538 - Train Accuracy: 0.7160, Validation Accuracy: 0.7138, Loss: 0.3580\n",
      "Epoch   1 Batch  440/538 - Train Accuracy: 0.7080, Validation Accuracy: 0.7163, Loss: 0.3761\n",
      "Epoch   1 Batch  450/538 - Train Accuracy: 0.7569, Validation Accuracy: 0.7404, Loss: 0.3624\n",
      "Epoch   1 Batch  460/538 - Train Accuracy: 0.7336, Validation Accuracy: 0.7360, Loss: 0.3368\n",
      "Epoch   1 Batch  470/538 - Train Accuracy: 0.7446, Validation Accuracy: 0.7369, Loss: 0.3254\n",
      "Epoch   1 Batch  480/538 - Train Accuracy: 0.7671, Validation Accuracy: 0.7402, Loss: 0.3226\n",
      "Epoch   1 Batch  490/538 - Train Accuracy: 0.7500, Validation Accuracy: 0.7459, Loss: 0.3270\n",
      "Epoch   1 Batch  500/538 - Train Accuracy: 0.7779, Validation Accuracy: 0.7463, Loss: 0.2909\n",
      "Epoch   1 Batch  510/538 - Train Accuracy: 0.7692, Validation Accuracy: 0.7567, Loss: 0.3109\n",
      "Epoch   1 Batch  520/538 - Train Accuracy: 0.7477, Validation Accuracy: 0.7484, Loss: 0.3188\n",
      "Epoch   1 Batch  530/538 - Train Accuracy: 0.7346, Validation Accuracy: 0.7401, Loss: 0.3263\n",
      "Epoch   2 Batch   10/538 - Train Accuracy: 0.7492, Validation Accuracy: 0.7326, Loss: 0.3207\n",
      "Epoch   2 Batch   20/538 - Train Accuracy: 0.7837, Validation Accuracy: 0.7791, Loss: 0.3015\n",
      "Epoch   2 Batch   30/538 - Train Accuracy: 0.7527, Validation Accuracy: 0.7779, Loss: 0.3103\n",
      "Epoch   2 Batch   40/538 - Train Accuracy: 0.8066, Validation Accuracy: 0.7756, Loss: 0.2435\n",
      "Epoch   2 Batch   50/538 - Train Accuracy: 0.7793, Validation Accuracy: 0.7759, Loss: 0.2716\n",
      "Epoch   2 Batch   60/538 - Train Accuracy: 0.7773, Validation Accuracy: 0.7772, Loss: 0.2836\n",
      "Epoch   2 Batch   70/538 - Train Accuracy: 0.7829, Validation Accuracy: 0.7587, Loss: 0.2607\n",
      "Epoch   2 Batch   80/538 - Train Accuracy: 0.8049, Validation Accuracy: 0.7688, Loss: 0.2872\n",
      "Epoch   2 Batch   90/538 - Train Accuracy: 0.7835, Validation Accuracy: 0.7797, Loss: 0.2602\n",
      "Epoch   2 Batch  100/538 - Train Accuracy: 0.8061, Validation Accuracy: 0.7905, Loss: 0.2457\n",
      "Epoch   2 Batch  110/538 - Train Accuracy: 0.7984, Validation Accuracy: 0.7967, Loss: 0.2471\n",
      "Epoch   2 Batch  120/538 - Train Accuracy: 0.8254, Validation Accuracy: 0.7976, Loss: 0.2303\n",
      "Epoch   2 Batch  130/538 - Train Accuracy: 0.8077, Validation Accuracy: 0.7965, Loss: 0.2356\n",
      "Epoch   2 Batch  140/538 - Train Accuracy: 0.7908, Validation Accuracy: 0.7862, Loss: 0.2555\n",
      "Epoch   2 Batch  150/538 - Train Accuracy: 0.8201, Validation Accuracy: 0.7956, Loss: 0.2258\n",
      "Epoch   2 Batch  160/538 - Train Accuracy: 0.7952, Validation Accuracy: 0.7839, Loss: 0.2210\n",
      "Epoch   2 Batch  170/538 - Train Accuracy: 0.8116, Validation Accuracy: 0.7905, Loss: 0.2308\n",
      "Epoch   2 Batch  180/538 - Train Accuracy: 0.8413, Validation Accuracy: 0.8100, Loss: 0.2202\n",
      "Epoch   2 Batch  190/538 - Train Accuracy: 0.8199, Validation Accuracy: 0.8207, Loss: 0.2356\n",
      "Epoch   2 Batch  200/538 - Train Accuracy: 0.8277, Validation Accuracy: 0.8125, Loss: 0.2064\n",
      "Epoch   2 Batch  210/538 - Train Accuracy: 0.8155, Validation Accuracy: 0.8113, Loss: 0.2061\n",
      "Epoch   2 Batch  220/538 - Train Accuracy: 0.8333, Validation Accuracy: 0.8189, Loss: 0.1912\n",
      "Epoch   2 Batch  230/538 - Train Accuracy: 0.8613, Validation Accuracy: 0.8420, Loss: 0.2042\n",
      "Epoch   2 Batch  240/538 - Train Accuracy: 0.8494, Validation Accuracy: 0.8306, Loss: 0.1943\n",
      "Epoch   2 Batch  250/538 - Train Accuracy: 0.8555, Validation Accuracy: 0.8271, Loss: 0.1892\n",
      "Epoch   2 Batch  260/538 - Train Accuracy: 0.8248, Validation Accuracy: 0.8455, Loss: 0.1890\n",
      "Epoch   2 Batch  270/538 - Train Accuracy: 0.8484, Validation Accuracy: 0.8526, Loss: 0.1841\n",
      "Epoch   2 Batch  280/538 - Train Accuracy: 0.8793, Validation Accuracy: 0.8512, Loss: 0.1667\n",
      "Epoch   2 Batch  290/538 - Train Accuracy: 0.8664, Validation Accuracy: 0.8654, Loss: 0.1720\n",
      "Epoch   2 Batch  300/538 - Train Accuracy: 0.8575, Validation Accuracy: 0.8516, Loss: 0.1679\n",
      "Epoch   2 Batch  310/538 - Train Accuracy: 0.8959, Validation Accuracy: 0.8583, Loss: 0.1688\n",
      "Epoch   2 Batch  320/538 - Train Accuracy: 0.8810, Validation Accuracy: 0.8540, Loss: 0.1539\n",
      "Epoch   2 Batch  330/538 - Train Accuracy: 0.8789, Validation Accuracy: 0.8509, Loss: 0.1509\n",
      "Epoch   2 Batch  340/538 - Train Accuracy: 0.8855, Validation Accuracy: 0.8562, Loss: 0.1622\n",
      "Epoch   2 Batch  350/538 - Train Accuracy: 0.8694, Validation Accuracy: 0.8615, Loss: 0.1772\n",
      "Epoch   2 Batch  360/538 - Train Accuracy: 0.8635, Validation Accuracy: 0.8697, Loss: 0.1601\n",
      "Epoch   2 Batch  370/538 - Train Accuracy: 0.8994, Validation Accuracy: 0.8832, Loss: 0.1535\n",
      "Epoch   2 Batch  380/538 - Train Accuracy: 0.8828, Validation Accuracy: 0.8784, Loss: 0.1384\n",
      "Epoch   2 Batch  390/538 - Train Accuracy: 0.8901, Validation Accuracy: 0.8880, Loss: 0.1320\n",
      "Epoch   2 Batch  400/538 - Train Accuracy: 0.8849, Validation Accuracy: 0.8642, Loss: 0.1409\n",
      "Epoch   2 Batch  410/538 - Train Accuracy: 0.8873, Validation Accuracy: 0.8839, Loss: 0.1392\n",
      "Epoch   2 Batch  420/538 - Train Accuracy: 0.9018, Validation Accuracy: 0.8755, Loss: 0.1353\n",
      "Epoch   2 Batch  430/538 - Train Accuracy: 0.8682, Validation Accuracy: 0.8768, Loss: 0.1328\n",
      "Epoch   2 Batch  440/538 - Train Accuracy: 0.8754, Validation Accuracy: 0.8830, Loss: 0.1439\n",
      "Epoch   2 Batch  450/538 - Train Accuracy: 0.8856, Validation Accuracy: 0.8825, Loss: 0.1397\n",
      "Epoch   2 Batch  460/538 - Train Accuracy: 0.8778, Validation Accuracy: 0.8956, Loss: 0.1268\n",
      "Epoch   2 Batch  470/538 - Train Accuracy: 0.8895, Validation Accuracy: 0.8904, Loss: 0.1185\n",
      "Epoch   2 Batch  480/538 - Train Accuracy: 0.9217, Validation Accuracy: 0.8874, Loss: 0.1117\n",
      "Epoch   2 Batch  490/538 - Train Accuracy: 0.9169, Validation Accuracy: 0.8894, Loss: 0.1177\n",
      "Epoch   2 Batch  500/538 - Train Accuracy: 0.9212, Validation Accuracy: 0.8924, Loss: 0.0939\n",
      "Epoch   2 Batch  510/538 - Train Accuracy: 0.9120, Validation Accuracy: 0.8970, Loss: 0.1006\n",
      "Epoch   2 Batch  520/538 - Train Accuracy: 0.9105, Validation Accuracy: 0.8862, Loss: 0.1126\n",
      "Epoch   2 Batch  530/538 - Train Accuracy: 0.8760, Validation Accuracy: 0.9032, Loss: 0.1202\n",
      "Epoch   3 Batch   10/538 - Train Accuracy: 0.8982, Validation Accuracy: 0.8801, Loss: 0.1039\n",
      "Epoch   3 Batch   20/538 - Train Accuracy: 0.9048, Validation Accuracy: 0.9036, Loss: 0.1003\n",
      "Epoch   3 Batch   30/538 - Train Accuracy: 0.8984, Validation Accuracy: 0.8935, Loss: 0.1117\n",
      "Epoch   3 Batch   40/538 - Train Accuracy: 0.9134, Validation Accuracy: 0.9016, Loss: 0.0843\n",
      "Epoch   3 Batch   50/538 - Train Accuracy: 0.9213, Validation Accuracy: 0.9048, Loss: 0.0888\n",
      "Epoch   3 Batch   60/538 - Train Accuracy: 0.9150, Validation Accuracy: 0.9057, Loss: 0.0935\n",
      "Epoch   3 Batch   70/538 - Train Accuracy: 0.8958, Validation Accuracy: 0.8929, Loss: 0.0882\n",
      "Epoch   3 Batch   80/538 - Train Accuracy: 0.9396, Validation Accuracy: 0.8917, Loss: 0.0942\n",
      "Epoch   3 Batch   90/538 - Train Accuracy: 0.9187, Validation Accuracy: 0.9018, Loss: 0.0977\n",
      "Epoch   3 Batch  100/538 - Train Accuracy: 0.9143, Validation Accuracy: 0.8995, Loss: 0.0796\n",
      "Epoch   3 Batch  110/538 - Train Accuracy: 0.9117, Validation Accuracy: 0.9032, Loss: 0.0842\n",
      "Epoch   3 Batch  120/538 - Train Accuracy: 0.9385, Validation Accuracy: 0.9171, Loss: 0.0666\n",
      "Epoch   3 Batch  130/538 - Train Accuracy: 0.9250, Validation Accuracy: 0.9201, Loss: 0.0764\n",
      "Epoch   3 Batch  140/538 - Train Accuracy: 0.8947, Validation Accuracy: 0.9158, Loss: 0.1017\n",
      "Epoch   3 Batch  150/538 - Train Accuracy: 0.9123, Validation Accuracy: 0.9057, Loss: 0.0794\n",
      "Epoch   3 Batch  160/538 - Train Accuracy: 0.9133, Validation Accuracy: 0.9158, Loss: 0.0765\n",
      "Epoch   3 Batch  170/538 - Train Accuracy: 0.9126, Validation Accuracy: 0.8983, Loss: 0.0840\n",
      "Epoch   3 Batch  180/538 - Train Accuracy: 0.9224, Validation Accuracy: 0.8942, Loss: 0.0763\n",
      "Epoch   3 Batch  190/538 - Train Accuracy: 0.9029, Validation Accuracy: 0.9013, Loss: 0.0980\n"
     ]
    },
    {
     "name": "stdout",
     "output_type": "stream",
     "text": [
      "Epoch   3 Batch  200/538 - Train Accuracy: 0.9260, Validation Accuracy: 0.8997, Loss: 0.0682\n",
      "Epoch   3 Batch  210/538 - Train Accuracy: 0.8962, Validation Accuracy: 0.9041, Loss: 0.0778\n",
      "Epoch   3 Batch  220/538 - Train Accuracy: 0.8938, Validation Accuracy: 0.9006, Loss: 0.0745\n",
      "Epoch   3 Batch  230/538 - Train Accuracy: 0.9020, Validation Accuracy: 0.9054, Loss: 0.0752\n",
      "Epoch   3 Batch  240/538 - Train Accuracy: 0.9215, Validation Accuracy: 0.9137, Loss: 0.0744\n",
      "Epoch   3 Batch  250/538 - Train Accuracy: 0.9322, Validation Accuracy: 0.9187, Loss: 0.0699\n",
      "Epoch   3 Batch  260/538 - Train Accuracy: 0.8863, Validation Accuracy: 0.9116, Loss: 0.0756\n",
      "Epoch   3 Batch  270/538 - Train Accuracy: 0.9217, Validation Accuracy: 0.9192, Loss: 0.0626\n",
      "Epoch   3 Batch  280/538 - Train Accuracy: 0.9317, Validation Accuracy: 0.9116, Loss: 0.0597\n",
      "Epoch   3 Batch  290/538 - Train Accuracy: 0.9471, Validation Accuracy: 0.9233, Loss: 0.0616\n",
      "Epoch   3 Batch  300/538 - Train Accuracy: 0.9102, Validation Accuracy: 0.9281, Loss: 0.0684\n",
      "Epoch   3 Batch  310/538 - Train Accuracy: 0.9484, Validation Accuracy: 0.9379, Loss: 0.0624\n",
      "Epoch   3 Batch  320/538 - Train Accuracy: 0.9180, Validation Accuracy: 0.9252, Loss: 0.0584\n",
      "Epoch   3 Batch  330/538 - Train Accuracy: 0.9386, Validation Accuracy: 0.9281, Loss: 0.0582\n",
      "Epoch   3 Batch  340/538 - Train Accuracy: 0.9201, Validation Accuracy: 0.9306, Loss: 0.0604\n",
      "Epoch   3 Batch  350/538 - Train Accuracy: 0.9289, Validation Accuracy: 0.9240, Loss: 0.0707\n",
      "Epoch   3 Batch  360/538 - Train Accuracy: 0.9293, Validation Accuracy: 0.9228, Loss: 0.0593\n",
      "Epoch   3 Batch  370/538 - Train Accuracy: 0.9424, Validation Accuracy: 0.9327, Loss: 0.0645\n",
      "Epoch   3 Batch  380/538 - Train Accuracy: 0.9256, Validation Accuracy: 0.9283, Loss: 0.0568\n",
      "Epoch   3 Batch  390/538 - Train Accuracy: 0.9343, Validation Accuracy: 0.9254, Loss: 0.0540\n",
      "Epoch   3 Batch  400/538 - Train Accuracy: 0.9315, Validation Accuracy: 0.9215, Loss: 0.0617\n",
      "Epoch   3 Batch  410/538 - Train Accuracy: 0.9377, Validation Accuracy: 0.9276, Loss: 0.0657\n",
      "Epoch   3 Batch  420/538 - Train Accuracy: 0.9330, Validation Accuracy: 0.9434, Loss: 0.0584\n",
      "Epoch   3 Batch  430/538 - Train Accuracy: 0.9230, Validation Accuracy: 0.9341, Loss: 0.0559\n",
      "Epoch   3 Batch  440/538 - Train Accuracy: 0.9205, Validation Accuracy: 0.9276, Loss: 0.0656\n",
      "Epoch   3 Batch  450/538 - Train Accuracy: 0.9278, Validation Accuracy: 0.9206, Loss: 0.0670\n",
      "Epoch   3 Batch  460/538 - Train Accuracy: 0.9152, Validation Accuracy: 0.9348, Loss: 0.0593\n",
      "Epoch   3 Batch  470/538 - Train Accuracy: 0.9280, Validation Accuracy: 0.9272, Loss: 0.0558\n",
      "Epoch   3 Batch  480/538 - Train Accuracy: 0.9422, Validation Accuracy: 0.9254, Loss: 0.0504\n",
      "Epoch   3 Batch  490/538 - Train Accuracy: 0.9353, Validation Accuracy: 0.9293, Loss: 0.0546\n",
      "Epoch   3 Batch  500/538 - Train Accuracy: 0.9405, Validation Accuracy: 0.9391, Loss: 0.0447\n",
      "Epoch   3 Batch  510/538 - Train Accuracy: 0.9379, Validation Accuracy: 0.9386, Loss: 0.0483\n",
      "Epoch   3 Batch  520/538 - Train Accuracy: 0.9309, Validation Accuracy: 0.9224, Loss: 0.0567\n",
      "Epoch   3 Batch  530/538 - Train Accuracy: 0.9074, Validation Accuracy: 0.9261, Loss: 0.0661\n",
      "Epoch   4 Batch   10/538 - Train Accuracy: 0.9297, Validation Accuracy: 0.9290, Loss: 0.0530\n",
      "Epoch   4 Batch   20/538 - Train Accuracy: 0.9407, Validation Accuracy: 0.9364, Loss: 0.0497\n",
      "Epoch   4 Batch   30/538 - Train Accuracy: 0.9145, Validation Accuracy: 0.9297, Loss: 0.0640\n",
      "Epoch   4 Batch   40/538 - Train Accuracy: 0.9476, Validation Accuracy: 0.9377, Loss: 0.0449\n",
      "Epoch   4 Batch   50/538 - Train Accuracy: 0.9437, Validation Accuracy: 0.9391, Loss: 0.0449\n",
      "Epoch   4 Batch   60/538 - Train Accuracy: 0.9531, Validation Accuracy: 0.9492, Loss: 0.0508\n",
      "Epoch   4 Batch   70/538 - Train Accuracy: 0.9271, Validation Accuracy: 0.9380, Loss: 0.0476\n",
      "Epoch   4 Batch   80/538 - Train Accuracy: 0.9502, Validation Accuracy: 0.9400, Loss: 0.0492\n",
      "Epoch   4 Batch   90/538 - Train Accuracy: 0.9386, Validation Accuracy: 0.9331, Loss: 0.0518\n",
      "Epoch   4 Batch  100/538 - Train Accuracy: 0.9418, Validation Accuracy: 0.9332, Loss: 0.0433\n",
      "Epoch   4 Batch  110/538 - Train Accuracy: 0.9520, Validation Accuracy: 0.9437, Loss: 0.0475\n",
      "Epoch   4 Batch  120/538 - Train Accuracy: 0.9459, Validation Accuracy: 0.9272, Loss: 0.0362\n",
      "Epoch   4 Batch  130/538 - Train Accuracy: 0.9390, Validation Accuracy: 0.9531, Loss: 0.0454\n",
      "Epoch   4 Batch  140/538 - Train Accuracy: 0.9258, Validation Accuracy: 0.9403, Loss: 0.0606\n",
      "Epoch   4 Batch  150/538 - Train Accuracy: 0.9352, Validation Accuracy: 0.9290, Loss: 0.0420\n",
      "Epoch   4 Batch  160/538 - Train Accuracy: 0.9330, Validation Accuracy: 0.9395, Loss: 0.0451\n",
      "Epoch   4 Batch  170/538 - Train Accuracy: 0.9392, Validation Accuracy: 0.9384, Loss: 0.0461\n",
      "Epoch   4 Batch  180/538 - Train Accuracy: 0.9455, Validation Accuracy: 0.9446, Loss: 0.0454\n",
      "Epoch   4 Batch  190/538 - Train Accuracy: 0.9291, Validation Accuracy: 0.9302, Loss: 0.0560\n",
      "Epoch   4 Batch  200/538 - Train Accuracy: 0.9473, Validation Accuracy: 0.9476, Loss: 0.0416\n",
      "Epoch   4 Batch  210/538 - Train Accuracy: 0.9267, Validation Accuracy: 0.9240, Loss: 0.0488\n",
      "Epoch   4 Batch  220/538 - Train Accuracy: 0.9211, Validation Accuracy: 0.9450, Loss: 0.0479\n",
      "Epoch   4 Batch  230/538 - Train Accuracy: 0.9330, Validation Accuracy: 0.9293, Loss: 0.0459\n",
      "Epoch   4 Batch  240/538 - Train Accuracy: 0.9475, Validation Accuracy: 0.9331, Loss: 0.0481\n",
      "Epoch   4 Batch  250/538 - Train Accuracy: 0.9525, Validation Accuracy: 0.9416, Loss: 0.0440\n",
      "Epoch   4 Batch  260/538 - Train Accuracy: 0.9284, Validation Accuracy: 0.9363, Loss: 0.0461\n",
      "Epoch   4 Batch  270/538 - Train Accuracy: 0.9568, Validation Accuracy: 0.9402, Loss: 0.0400\n",
      "Epoch   4 Batch  280/538 - Train Accuracy: 0.9561, Validation Accuracy: 0.9355, Loss: 0.0372\n",
      "Epoch   4 Batch  290/538 - Train Accuracy: 0.9650, Validation Accuracy: 0.9334, Loss: 0.0390\n",
      "Epoch   4 Batch  300/538 - Train Accuracy: 0.9356, Validation Accuracy: 0.9355, Loss: 0.0445\n",
      "Epoch   4 Batch  310/538 - Train Accuracy: 0.9523, Validation Accuracy: 0.9405, Loss: 0.0427\n",
      "Epoch   4 Batch  320/538 - Train Accuracy: 0.9399, Validation Accuracy: 0.9391, Loss: 0.0374\n",
      "Epoch   4 Batch  330/538 - Train Accuracy: 0.9520, Validation Accuracy: 0.9498, Loss: 0.0379\n",
      "Epoch   4 Batch  340/538 - Train Accuracy: 0.9439, Validation Accuracy: 0.9393, Loss: 0.0417\n",
      "Epoch   4 Batch  350/538 - Train Accuracy: 0.9446, Validation Accuracy: 0.9554, Loss: 0.0450\n",
      "Epoch   4 Batch  360/538 - Train Accuracy: 0.9525, Validation Accuracy: 0.9451, Loss: 0.0393\n",
      "Epoch   4 Batch  370/538 - Train Accuracy: 0.9475, Validation Accuracy: 0.9386, Loss: 0.0411\n",
      "Epoch   4 Batch  380/538 - Train Accuracy: 0.9557, Validation Accuracy: 0.9393, Loss: 0.0361\n",
      "Epoch   4 Batch  390/538 - Train Accuracy: 0.9494, Validation Accuracy: 0.9309, Loss: 0.0345\n",
      "Epoch   4 Batch  400/538 - Train Accuracy: 0.9537, Validation Accuracy: 0.9537, Loss: 0.0430\n",
      "Epoch   4 Batch  410/538 - Train Accuracy: 0.9482, Validation Accuracy: 0.9563, Loss: 0.0414\n",
      "Epoch   4 Batch  420/538 - Train Accuracy: 0.9527, Validation Accuracy: 0.9474, Loss: 0.0416\n",
      "Epoch   4 Batch  430/538 - Train Accuracy: 0.9395, Validation Accuracy: 0.9437, Loss: 0.0380\n",
      "Epoch   4 Batch  440/538 - Train Accuracy: 0.9453, Validation Accuracy: 0.9496, Loss: 0.0406\n",
      "Epoch   4 Batch  450/538 - Train Accuracy: 0.9328, Validation Accuracy: 0.9538, Loss: 0.0479\n",
      "Epoch   4 Batch  460/538 - Train Accuracy: 0.9366, Validation Accuracy: 0.9636, Loss: 0.0385\n",
      "Epoch   4 Batch  470/538 - Train Accuracy: 0.9496, Validation Accuracy: 0.9563, Loss: 0.0386\n",
      "Epoch   4 Batch  480/538 - Train Accuracy: 0.9643, Validation Accuracy: 0.9529, Loss: 0.0311\n",
      "Epoch   4 Batch  490/538 - Train Accuracy: 0.9539, Validation Accuracy: 0.9473, Loss: 0.0366\n",
      "Epoch   4 Batch  500/538 - Train Accuracy: 0.9654, Validation Accuracy: 0.9464, Loss: 0.0280\n",
      "Epoch   4 Batch  510/538 - Train Accuracy: 0.9518, Validation Accuracy: 0.9515, Loss: 0.0346\n",
      "Epoch   4 Batch  520/538 - Train Accuracy: 0.9527, Validation Accuracy: 0.9348, Loss: 0.0384\n",
      "Epoch   4 Batch  530/538 - Train Accuracy: 0.9232, Validation Accuracy: 0.9423, Loss: 0.0471\n",
      "Model Trained and Saved\n"
     ]
    }
   ],
   "source": [
    "\"\"\"\n",
    "DON'T MODIFY ANYTHING IN THIS CELL\n",
    "\"\"\"\n",
    "def get_accuracy(target, logits):\n",
    "    \"\"\"\n",
    "    Calculate accuracy\n",
    "    \"\"\"\n",
    "    max_seq = max(target.shape[1], logits.shape[1])\n",
    "    if max_seq - target.shape[1]:\n",
    "        target = np.pad(\n",
    "            target,\n",
    "            [(0,0),(0,max_seq - target.shape[1])],\n",
    "            'constant')\n",
    "    if max_seq - logits.shape[1]:\n",
    "        logits = np.pad(\n",
    "            logits,\n",
    "            [(0,0),(0,max_seq - logits.shape[1])],\n",
    "            'constant')\n",
    "\n",
    "    return np.mean(np.equal(target, logits))\n",
    "\n",
    "# Split data to training and validation sets\n",
    "train_source = source_int_text[batch_size:]\n",
    "train_target = target_int_text[batch_size:]\n",
    "valid_source = source_int_text[:batch_size]\n",
    "valid_target = target_int_text[:batch_size]\n",
    "(valid_sources_batch, valid_targets_batch, valid_sources_lengths, valid_targets_lengths ) = next(get_batches(valid_source,\n",
    "                                                                                                             valid_target,\n",
    "                                                                                                             batch_size,\n",
    "                                                                                                             source_vocab_to_int['<PAD>'],\n",
    "                                                                                                             target_vocab_to_int['<PAD>']))                                                                                                  \n",
    "with tf.Session(graph=train_graph) as sess:\n",
    "    sess.run(tf.global_variables_initializer())\n",
    "\n",
    "    for epoch_i in range(epochs):\n",
    "        for batch_i, (source_batch, target_batch, sources_lengths, targets_lengths) in enumerate(\n",
    "                get_batches(train_source, train_target, batch_size,\n",
    "                            source_vocab_to_int['<PAD>'],\n",
    "                            target_vocab_to_int['<PAD>'])):\n",
    "\n",
    "            _, loss = sess.run(\n",
    "                [train_op, cost],\n",
    "                {input_data: source_batch,\n",
    "                 targets: target_batch,\n",
    "                 lr: learning_rate,\n",
    "                 target_sequence_length: targets_lengths,\n",
    "                 source_sequence_length: sources_lengths,\n",
    "                 keep_prob: keep_probability})\n",
    "\n",
    "\n",
    "            if batch_i % display_step == 0 and batch_i > 0:\n",
    "\n",
    "\n",
    "                batch_train_logits = sess.run(\n",
    "                    inference_logits,\n",
    "                    {input_data: source_batch,\n",
    "                     source_sequence_length: sources_lengths,\n",
    "                     target_sequence_length: targets_lengths,\n",
    "                     keep_prob: 1.0})\n",
    "\n",
    "\n",
    "                batch_valid_logits = sess.run(\n",
    "                    inference_logits,\n",
    "                    {input_data: valid_sources_batch,\n",
    "                     source_sequence_length: valid_sources_lengths,\n",
    "                     target_sequence_length: valid_targets_lengths,\n",
    "                     keep_prob: 1.0})\n",
    "\n",
    "                train_acc = get_accuracy(target_batch, batch_train_logits)\n",
    "\n",
    "                valid_acc = get_accuracy(valid_targets_batch, batch_valid_logits)\n",
    "\n",
    "                print('Epoch {:>3} Batch {:>4}/{} - Train Accuracy: {:>6.4f}, Validation Accuracy: {:>6.4f}, Loss: {:>6.4f}'\n",
    "                      .format(epoch_i, batch_i, len(source_int_text) // batch_size, train_acc, valid_acc, loss))\n",
    "\n",
    "    # Save Model\n",
    "    saver = tf.train.Saver()\n",
    "    saver.save(sess, save_path)\n",
    "    print('Model Trained and Saved')"
   ]
  },
  {
   "cell_type": "markdown",
   "metadata": {},
   "source": [
    "### Save Parameters\n",
    "Save the `batch_size` and `save_path` parameters for inference."
   ]
  },
  {
   "cell_type": "code",
   "execution_count": 48,
   "metadata": {
    "collapsed": true
   },
   "outputs": [],
   "source": [
    "\"\"\"\n",
    "DON'T MODIFY ANYTHING IN THIS CELL\n",
    "\"\"\"\n",
    "# Save parameters for checkpoint\n",
    "helper.save_params(save_path)"
   ]
  },
  {
   "cell_type": "markdown",
   "metadata": {},
   "source": [
    "# Checkpoint"
   ]
  },
  {
   "cell_type": "code",
   "execution_count": 49,
   "metadata": {
    "collapsed": true
   },
   "outputs": [],
   "source": [
    "\"\"\"\n",
    "DON'T MODIFY ANYTHING IN THIS CELL\n",
    "\"\"\"\n",
    "import tensorflow as tf\n",
    "import numpy as np\n",
    "import helper\n",
    "import problem_unittests as tests\n",
    "\n",
    "_, (source_vocab_to_int, target_vocab_to_int), (source_int_to_vocab, target_int_to_vocab) = helper.load_preprocess()\n",
    "load_path = helper.load_params()"
   ]
  },
  {
   "cell_type": "markdown",
   "metadata": {},
   "source": [
    "## Sentence to Sequence\n",
    "To feed a sentence into the model for translation, you first need to preprocess it.  Implement the function `sentence_to_seq()` to preprocess new sentences.\n",
    "\n",
    "- Convert the sentence to lowercase\n",
    "- Convert words into ids using `vocab_to_int`\n",
    " - Convert words not in the vocabulary, to the `<UNK>` word id."
   ]
  },
  {
   "cell_type": "code",
   "execution_count": 50,
   "metadata": {},
   "outputs": [
    {
     "name": "stdout",
     "output_type": "stream",
     "text": [
      "Tests Passed\n"
     ]
    }
   ],
   "source": [
    "def sentence_to_seq(sentence, vocab_to_int):\n",
    "    \"\"\"\n",
    "    Convert a sentence to a sequence of ids\n",
    "    :param sentence: String\n",
    "    :param vocab_to_int: Dictionary to go from the words to an id\n",
    "    :return: List of word ids\n",
    "    \"\"\"\n",
    "    lower = sentence.lower()\n",
    "    unk = vocab_to_int[\"<UNK>\"]\n",
    "    ids = [vocab_to_int.get(word, unk) for word in lower.split()]\n",
    "    return ids\n",
    "\n",
    "\"\"\"\n",
    "DON'T MODIFY ANYTHING IN THIS CELL THAT IS BELOW THIS LINE\n",
    "\"\"\"\n",
    "tests.test_sentence_to_seq(sentence_to_seq)"
   ]
  },
  {
   "cell_type": "markdown",
   "metadata": {},
   "source": [
    "## Translate\n",
    "This will translate `translate_sentence` from English to French."
   ]
  },
  {
   "cell_type": "code",
   "execution_count": 51,
   "metadata": {},
   "outputs": [
    {
     "name": "stdout",
     "output_type": "stream",
     "text": [
      "INFO:tensorflow:Restoring parameters from checkpoints/dev\n",
      "Input\n",
      "  Word Ids:      [175, 91, 176, 63, 68, 94, 193]\n",
      "  English Words: ['he', 'saw', 'a', 'old', 'yellow', 'truck', '.']\n",
      "\n",
      "Prediction\n",
      "  Word Ids:      [74, 145, 90, 284, 325, 141, 232, 247, 1]\n",
      "  French Words: il a vu le nouveau camion vert . <EOS>\n"
     ]
    }
   ],
   "source": [
    "translate_sentence = 'he saw a old yellow truck .'\n",
    "\n",
    "\n",
    "\"\"\"\n",
    "DON'T MODIFY ANYTHING IN THIS CELL\n",
    "\"\"\"\n",
    "translate_sentence = sentence_to_seq(translate_sentence, source_vocab_to_int)\n",
    "\n",
    "loaded_graph = tf.Graph()\n",
    "with tf.Session(graph=loaded_graph) as sess:\n",
    "    # Load saved model\n",
    "    loader = tf.train.import_meta_graph(load_path + '.meta')\n",
    "    loader.restore(sess, load_path)\n",
    "\n",
    "    input_data = loaded_graph.get_tensor_by_name('input:0')\n",
    "    logits = loaded_graph.get_tensor_by_name('predictions:0')\n",
    "    target_sequence_length = loaded_graph.get_tensor_by_name('target_sequence_length:0')\n",
    "    source_sequence_length = loaded_graph.get_tensor_by_name('source_sequence_length:0')\n",
    "    keep_prob = loaded_graph.get_tensor_by_name('keep_prob:0')\n",
    "\n",
    "    translate_logits = sess.run(logits, {input_data: [translate_sentence]*batch_size,\n",
    "                                         target_sequence_length: [len(translate_sentence)*2]*batch_size,\n",
    "                                         source_sequence_length: [len(translate_sentence)]*batch_size,\n",
    "                                         keep_prob: 1.0})[0]\n",
    "\n",
    "print('Input')\n",
    "print('  Word Ids:      {}'.format([i for i in translate_sentence]))\n",
    "print('  English Words: {}'.format([source_int_to_vocab[i] for i in translate_sentence]))\n",
    "\n",
    "print('\\nPrediction')\n",
    "print('  Word Ids:      {}'.format([i for i in translate_logits]))\n",
    "print('  French Words: {}'.format(\" \".join([target_int_to_vocab[i] for i in translate_logits])))\n"
   ]
  },
  {
   "cell_type": "markdown",
   "metadata": {},
   "source": [
    "## Imperfect Translation\n",
    "You might notice that some sentences translate better than others.  Since the dataset you're using only has a vocabulary of 227 English words of the thousands that you use, you're only going to see good results using these words.  For this project, you don't need a perfect translation. However, if you want to create a better translation model, you'll need better data.\n",
    "\n",
    "You can train on the [WMT10 French-English corpus](http://www.statmt.org/wmt10/training-giga-fren.tar).  This dataset has more vocabulary and richer in topics discussed.  However, this will take you days to train, so make sure you've a GPU and the neural network is performing well on dataset we provided.  Just make sure you play with the WMT10 corpus after you've submitted this project.\n",
    "## Submitting This Project\n",
    "When submitting this project, make sure to run all the cells before saving the notebook. Save the notebook file as \"dlnd_language_translation.ipynb\" and save it as a HTML file under \"File\" -> \"Download as\". Include the \"helper.py\" and \"problem_unittests.py\" files in your submission."
   ]
  }
 ],
 "metadata": {
  "anaconda-cloud": {},
  "kernelspec": {
   "display_name": "Python 3",
   "language": "python",
   "name": "python3"
  },
  "language_info": {
   "codemirror_mode": {
    "name": "ipython",
    "version": 3
   },
   "file_extension": ".py",
   "mimetype": "text/x-python",
   "name": "python",
   "nbconvert_exporter": "python",
   "pygments_lexer": "ipython3",
   "version": "3.5.3"
  }
 },
 "nbformat": 4,
 "nbformat_minor": 1
}
